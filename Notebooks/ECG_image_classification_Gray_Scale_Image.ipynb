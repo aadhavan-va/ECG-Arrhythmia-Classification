{
  "nbformat": 4,
  "nbformat_minor": 0,
  "metadata": {
    "colab": {
      "name": "ECG image classification_Gray_Scale_Image.ipynb",
      "provenance": []
    },
    "kernelspec": {
      "name": "python3",
      "display_name": "Python 3"
    },
    "accelerator": "GPU"
  },
  "cells": [
    {
      "cell_type": "code",
      "metadata": {
        "id": "ToBlWaDmZP7M",
        "colab_type": "code",
        "colab": {
          "base_uri": "https://localhost:8080/",
          "height": 33
        },
        "outputId": "91d5fcc4-08f9-4d0e-cbb3-f026dd5b1013"
      },
      "source": [
        "import os\n",
        "import zipfile\n",
        "import numpy as np\n",
        "import matplotlib.pyplot as plt\n",
        "import tensorflow as tf\n",
        "import keras\n",
        "from keras.layers import Conv2D , MaxPool2D , BatchNormalization,Dropout,Flatten,Dense,ReLU\n",
        "from keras.models import Sequential\n",
        "from tensorflow.keras.preprocessing.image import ImageDataGenerator\n",
        "from tensorflow.keras.applications.inception_v3 import InceptionV3\n",
        "from tensorflow.keras import layers\n",
        "from tensorflow.keras import Model\n",
        "from keras.utils import np_utils\n",
        "from keras.models import load_model\n",
        "from keras.callbacks import ModelCheckpoint\n",
        "img_size = 150"
      ],
      "execution_count": null,
      "outputs": [
        {
          "output_type": "stream",
          "text": [
            "Using TensorFlow backend.\n"
          ],
          "name": "stderr"
        }
      ]
    },
    {
      "cell_type": "code",
      "metadata": {
        "id": "6WQ9NFHUjVog",
        "colab_type": "code",
        "colab": {}
      },
      "source": [
        "local_zip = '/content/drive/My Drive/Zipped file/Train_data.zip'\n",
        "zip_ref = zipfile.ZipFile(local_zip, 'r')\n",
        "zip_ref.extractall('/tmp/Train')\n",
        "local_zip = '/content/drive/My Drive/Zipped file/Test_data.zip'\n",
        "zip_ref = zipfile.ZipFile(local_zip, 'r')\n",
        "zip_ref.extractall('/tmp/Test')\n",
        "zip_ref.close()"
      ],
      "execution_count": null,
      "outputs": []
    },
    {
      "cell_type": "code",
      "metadata": {
        "id": "ZC5BH7rq1oAC",
        "colab_type": "code",
        "colab": {
          "base_uri": "https://localhost:8080/",
          "height": 50
        },
        "outputId": "5ec8b42c-3d0d-465b-aa27-0a89a713647c"
      },
      "source": [
        "train_datagen = ImageDataGenerator(rescale = 1./255.,\n",
        "                                   #rotation_range = 40,\n",
        "                                   #width_shift_range = 0.2,\n",
        "                                   #height_shift_range = 0.2,\n",
        "                                   shear_range = 0.2,\n",
        "                                   zoom_range = 0.2,\n",
        "                                   horizontal_flip = True)\n",
        "test_datagen = ImageDataGenerator(\n",
        "    rescale=1/255\n",
        "   )\n",
        "\n",
        "train_generator = train_datagen.flow_from_directory(\n",
        "        '/tmp/Train/Train', \n",
        "        target_size=(150, 150),\n",
        "        batch_size=32,\n",
        "        class_mode='categorical')\n",
        "validation_generator = test_datagen.flow_from_directory(\n",
        "        '/tmp/Test/Test',\n",
        "        target_size=(150, 150), \n",
        "        batch_size=16,\n",
        "       \n",
        "        class_mode='categorical')"
      ],
      "execution_count": null,
      "outputs": [
        {
          "output_type": "stream",
          "text": [
            "Found 14708 images belonging to 7 classes.\n",
            "Found 591 images belonging to 7 classes.\n"
          ],
          "name": "stdout"
        }
      ]
    },
    {
      "cell_type": "code",
      "metadata": {
        "id": "x75Xuvd-jVlv",
        "colab_type": "code",
        "colab": {
          "base_uri": "https://localhost:8080/",
          "height": 221
        },
        "outputId": "a7b7ad1b-fdbf-4c9c-c232-0a2428ad6e06"
      },
      "source": [
        "!wget --no-check-certificate \\\n",
        "    https://storage.googleapis.com/mledu-datasets/inception_v3_weights_tf_dim_ordering_tf_kernels_notop.h5 \\\n",
        "    -O /tmp/inception_v3_weights_tf_dim_ordering_tf_kernels_notop.h5\n",
        "  "
      ],
      "execution_count": null,
      "outputs": [
        {
          "output_type": "stream",
          "text": [
            "--2020-06-08 18:02:14--  https://storage.googleapis.com/mledu-datasets/inception_v3_weights_tf_dim_ordering_tf_kernels_notop.h5\n",
            "Resolving storage.googleapis.com (storage.googleapis.com)... 108.177.126.128, 2a00:1450:4013:c01::80\n",
            "Connecting to storage.googleapis.com (storage.googleapis.com)|108.177.126.128|:443... connected.\n",
            "HTTP request sent, awaiting response... 200 OK\n",
            "Length: 87910968 (84M) [application/x-hdf]\n",
            "Saving to: ‘/tmp/inception_v3_weights_tf_dim_ordering_tf_kernels_notop.h5’\n",
            "\n",
            "\r          /tmp/ince   0%[                    ]       0  --.-KB/s               \r         /tmp/incep  28%[====>               ]  24.01M   103MB/s               \r        /tmp/incept  66%[============>       ]  56.01M   127MB/s               \r/tmp/inception_v3_w 100%[===================>]  83.84M   149MB/s    in 0.6s    \n",
            "\n",
            "2020-06-08 18:02:14 (149 MB/s) - ‘/tmp/inception_v3_weights_tf_dim_ordering_tf_kernels_notop.h5’ saved [87910968/87910968]\n",
            "\n"
          ],
          "name": "stdout"
        }
      ]
    },
    {
      "cell_type": "code",
      "metadata": {
        "id": "i7C3Ubjy1y3V",
        "colab_type": "code",
        "colab": {
          "base_uri": "https://localhost:8080/",
          "height": 33
        },
        "outputId": "67640855-8edc-46a7-fabd-d7581e0e7917"
      },
      "source": [
        "local_weights_file = '/tmp/inception_v3_weights_tf_dim_ordering_tf_kernels_notop.h5'\n",
        "\n",
        "pre_trained_model = InceptionV3(input_shape = (150, 150, 3), \n",
        "                                include_top = False, \n",
        "                                weights = None)\n",
        "\n",
        "pre_trained_model.load_weights(local_weights_file)\n",
        "\n",
        "for layer in pre_trained_model.layers:\n",
        "  layer.trainable = False\n",
        "  \n",
        "# pre_trained_model.summary()\n",
        "\n",
        "last_layer = pre_trained_model.get_layer('mixed8')\n",
        "print('last layer output shape: ', last_layer.output_shape)\n",
        "last_output = last_layer.output"
      ],
      "execution_count": null,
      "outputs": [
        {
          "output_type": "stream",
          "text": [
            "last layer output shape:  (None, 3, 3, 1280)\n"
          ],
          "name": "stdout"
        }
      ]
    },
    {
      "cell_type": "code",
      "metadata": {
        "id": "v4t3yt0l1y0-",
        "colab_type": "code",
        "colab": {}
      },
      "source": [
        "# Flatten the output layer to 1 dimension\n",
        "x = layers.Flatten()(last_output)\n",
        "# Add a fully connected layer with 1,024 hidden units and ReLU activation\n",
        "x = layers.Dense(1024, activation='relu')(x)\n",
        "# Add a dropout rate of 0.2\n",
        "x = layers.Dropout(0.2)(x)                  \n",
        "# Add a final sigmoid layer for classification\n",
        "x = layers.Dense  (7, activation='softmax')(x)           \n",
        "\n",
        "model = Model( pre_trained_model.input, x) \n",
        "\n",
        "model.compile(optimizer = 'adam', \n",
        "              loss = 'categorical_crossentropy', \n",
        "              metrics = ['accuracy'])\n",
        "\n",
        "\n"
      ],
      "execution_count": null,
      "outputs": []
    },
    {
      "cell_type": "code",
      "metadata": {
        "id": "SzJFwMTp1yyA",
        "colab_type": "code",
        "colab": {}
      },
      "source": [
        "class myCallback(tf.keras.callbacks.Callback):\n",
        "  def on_epoch_end(self, epoch, logs={}):\n",
        "    if(logs.get('val_accuracy')>0.98):\n",
        "      print(\"\\nReached 90% accuracy so cancelling training!\")\n",
        "      self.model.stop_training = True"
      ],
      "execution_count": null,
      "outputs": []
    },
    {
      "cell_type": "code",
      "metadata": {
        "id": "ur8zJUI12Kx9",
        "colab_type": "code",
        "colab": {}
      },
      "source": [
        "#callbacks = myCallback()\n",
        "#checkpoint = ModelCheckpoint('/tmp/Pre_trained_model',monitor='val_loss',verbose=0,save_best_only=True,mode='auto')\n",
        "'''checkpoint_filepath = '/tmp/checkpoint'\n",
        "model_checkpoint_callback = tf.keras.callbacks.ModelCheckpoint(\n",
        "    filepath=checkpoint_filepath,\n",
        "    save_weights_only=True,\n",
        "    monitor='val_acc',\n",
        "    mode='max',\n",
        "    save_best_only=True)\n",
        "history = model.fit(\n",
        "      train_generator,\n",
        "      steps_per_epoch=50,  \n",
        "      epochs=30,\n",
        "      verbose=1,\n",
        "      validation_data = validation_generator,\n",
        "      validation_steps=16,\n",
        "      callbacks=[model_checkpoint_callback]\n",
        "      )'''\n",
        "checkpoint = ModelCheckpoint('model-{epoch:02d}.model',monitor='val_loss',verbose=0,save_best_only=True,mode='auto')\n",
        "\n",
        "history=model.fit(train_data,train_target,epochs=10,callbacks=[checkpoint],validation_split=0.2)"
      ],
      "execution_count": null,
      "outputs": []
    },
    {
      "cell_type": "code",
      "metadata": {
        "id": "8XBNUweL2LeY",
        "colab_type": "code",
        "colab": {}
      },
      "source": [
        "plt.plot(history.history['loss'],'r',label='training loss')\n",
        "plt.plot(history.history['val_loss'],label='validation loss')\n",
        "plt.xlabel('# epochs')\n",
        "plt.ylabel('loss')\n",
        "plt.legend()\n",
        "plt.show()\n",
        "\n",
        "plt.plot(history.history['accuracy'],'r',label='training accuracy')\n",
        "plt.plot(history.history['val_accuracy'],label='validation accuracy')\n",
        "plt.xlabel('# epochs')\n",
        "plt.ylabel('loss')\n",
        "plt.legend()\n",
        "plt.show()"
      ],
      "execution_count": null,
      "outputs": []
    },
    {
      "cell_type": "markdown",
      "metadata": {
        "id": "KX358HeeBHFT",
        "colab_type": "text"
      },
      "source": [
        "Uploading the file in the form of numpy\n",
        "\n",
        "---\n",
        "\n",
        "\n",
        "\n",
        "---\n",
        "\n"
      ]
    },
    {
      "cell_type": "code",
      "metadata": {
        "id": "EQZcxOYc2LT4",
        "colab_type": "code",
        "colab": {}
      },
      "source": [
        "local_zip = '/content/drive/My Drive/Zipped file/Images.zip'\n",
        "zip_ref = zipfile.ZipFile(local_zip, 'r')\n",
        "zip_ref.extractall('/tmp/Images')\n",
        "\n",
        "zip_ref.close()"
      ],
      "execution_count": null,
      "outputs": []
    },
    {
      "cell_type": "code",
      "metadata": {
        "id": "QTeHI5oIBrwD",
        "colab_type": "code",
        "colab": {
          "base_uri": "https://localhost:8080/",
          "height": 87
        },
        "outputId": "625ea949-4488-4598-86dc-08e03793f5eb"
      },
      "source": [
        "import cv2\n",
        "data_path='/tmp/Images/Images'\n",
        "categories=os.listdir(data_path)\n",
        "labels=[i for i in range(len(categories))]\n",
        "\n",
        "label_dict=dict(zip(categories,labels)) #empty dictionary\n",
        "\n",
        "print(label_dict)\n",
        "print(categories)\n",
        "print(labels)"
      ],
      "execution_count": null,
      "outputs": [
        {
          "output_type": "stream",
          "text": [
            "{'Premature Ventricular Contraction': 0, 'Right Bundle Branch Block': 1, 'Atrial Premature Contraction': 2, 'Paced Beat': 3, 'Ventricular Escape Beat': 4, 'Normal': 5, 'Left Bundle Branch Block': 6}\n",
            "['Premature Ventricular Contraction', 'Right Bundle Branch Block', 'Atrial Premature Contraction', 'Paced Beat', 'Ventricular Escape Beat', 'Normal', 'Left Bundle Branch Block']\n",
            "[0, 1, 2, 3, 4, 5, 6]\n"
          ],
          "name": "stdout"
        }
      ]
    },
    {
      "cell_type": "code",
      "metadata": {
        "id": "zl34nIkNBroB",
        "colab_type": "code",
        "colab": {}
      },
      "source": [
        "img_size=150\n",
        "data=[]\n",
        "target=[]\n",
        "\n",
        "\n",
        "for category in categories:\n",
        "    folder_path=os.path.join(data_path,category)\n",
        "    img_names=os.listdir(folder_path)\n",
        "        \n",
        "    for img_name in img_names:\n",
        "        img_path=os.path.join(folder_path,img_name)\n",
        "        img=cv2.imread(img_path)\n",
        "\n",
        "        try:\n",
        "            gray=cv2.cvtColor(img,cv2.COLOR_BGR2GRAY)           \n",
        "            #Coverting the image into gray scale\n",
        "            resized=cv2.resize(gray,(img_size,img_size))\n",
        "            #resizing the gray scale into 50x50, since we need a fixed common size for all the images in the dataset\n",
        "            data.append(resized)\n",
        "            target.append(label_dict[category])\n",
        "            #appending the image and the label(categorized) into the list (dataset)\n",
        "\n",
        "        except Exception as e:\n",
        "            print('Exception:',e)\n",
        "            #if any exception rasied, the exception will be printed here. And pass to the next image"
      ],
      "execution_count": null,
      "outputs": []
    },
    {
      "cell_type": "code",
      "metadata": {
        "id": "GRltvAihBrgC",
        "colab_type": "code",
        "colab": {
          "base_uri": "https://localhost:8080/",
          "height": 67
        },
        "outputId": "0f005aec-e3a1-4e85-cd4f-4faea0663edc"
      },
      "source": [
        "\n",
        "data=np.array(data)/255.0\n",
        "print(data.shape)\n",
        "data=np.reshape(data,(data.shape[0],img_size,img_size,1))\n",
        "\n",
        "print(data.shape)\n",
        "\n",
        "target=np.array(target)\n",
        "\n",
        "new_target=np_utils.to_categorical(target)\n",
        "print(new_target.shape)\n",
        "#np.save('/tmp/data',data)\n",
        "#np.save('/tmp/target',new_target)"
      ],
      "execution_count": null,
      "outputs": [
        {
          "output_type": "stream",
          "text": [
            "(15275, 150, 150)\n",
            "(15275, 150, 150, 1)\n",
            "(15275, 7)\n"
          ],
          "name": "stdout"
        }
      ]
    },
    {
      "cell_type": "code",
      "metadata": {
        "id": "bXxhMHSZBrVz",
        "colab_type": "code",
        "colab": {}
      },
      "source": [
        "np.save('/tmp/data',data)\n",
        "np.save('/tmp/target',new_target)"
      ],
      "execution_count": null,
      "outputs": []
    },
    {
      "cell_type": "code",
      "metadata": {
        "id": "m6zKhsy0L7QK",
        "colab_type": "code",
        "colab": {}
      },
      "source": [
        "data=np.load('/tmp/data.npy')\n",
        "target=np.load('/tmp/target.npy')"
      ],
      "execution_count": null,
      "outputs": []
    },
    {
      "cell_type": "code",
      "metadata": {
        "id": "ZwzFA9FWL7LN",
        "colab_type": "code",
        "colab": {}
      },
      "source": [
        "from sklearn.model_selection import train_test_split\n",
        "\n",
        "train_data,test_data,train_target,test_target=train_test_split(data,target,test_size=0.1)"
      ],
      "execution_count": null,
      "outputs": []
    },
    {
      "cell_type": "code",
      "metadata": {
        "id": "R9S9DYb-MNxf",
        "colab_type": "code",
        "colab": {
          "base_uri": "https://localhost:8080/",
          "height": 33
        },
        "outputId": "026b9ecd-2670-439a-d03c-226683595735"
      },
      "source": [
        "train_data.shape"
      ],
      "execution_count": null,
      "outputs": [
        {
          "output_type": "execute_result",
          "data": {
            "text/plain": [
              "(13747, 150, 150, 1)"
            ]
          },
          "metadata": {
            "tags": []
          },
          "execution_count": 37
        }
      ]
    },
    {
      "cell_type": "code",
      "metadata": {
        "id": "L2ypBJZSMNs7",
        "colab_type": "code",
        "colab": {
          "base_uri": "https://localhost:8080/",
          "height": 33
        },
        "outputId": "952b6cf9-c851-4a05-b1ed-6487a14f0df7"
      },
      "source": [
        "test_data.shape"
      ],
      "execution_count": null,
      "outputs": [
        {
          "output_type": "execute_result",
          "data": {
            "text/plain": [
              "(1528, 150, 150, 1)"
            ]
          },
          "metadata": {
            "tags": []
          },
          "execution_count": 38
        }
      ]
    },
    {
      "cell_type": "code",
      "metadata": {
        "id": "aQwTzj4gMNo9",
        "colab_type": "code",
        "colab": {}
      },
      "source": [
        "IMAGE_SIZE = 150\n",
        "model = Sequential()\n",
        "\n",
        "model.add(Conv2D(64, (3,3),strides = (1,1), input_shape = data.shape[1:],kernel_initializer='glorot_uniform'))\n",
        "\n",
        "model.add(keras.layers.ELU())\n",
        "\n",
        "model.add(BatchNormalization())\n",
        "\n",
        "model.add(Conv2D(64, (3,3),strides = (1,1),kernel_initializer='glorot_uniform'))\n",
        "\n",
        "model.add(keras.layers.ELU())\n",
        "\n",
        "model.add(BatchNormalization())\n",
        "\n",
        "model.add(MaxPool2D(pool_size=(2, 2), strides= (2,2)))\n",
        "\n",
        "model.add(Conv2D(128, (3,3),strides = (1,1),kernel_initializer='glorot_uniform'))\n",
        "\n",
        "model.add(keras.layers.ELU())\n",
        "\n",
        "model.add(BatchNormalization())\n",
        "\n",
        "model.add(Conv2D(128, (3,3),strides = (1,1),kernel_initializer='glorot_uniform'))\n",
        "\n",
        "model.add(keras.layers.ELU())\n",
        "\n",
        "model.add(BatchNormalization())\n",
        "\n",
        "model.add(MaxPool2D(pool_size=(2, 2), strides= (2,2)))\n",
        "\n",
        "model.add(Conv2D(256, (3,3),strides = (1,1),kernel_initializer='glorot_uniform'))\n",
        "\n",
        "model.add(keras.layers.ELU())\n",
        "\n",
        "model.add(BatchNormalization())\n",
        "\n",
        "model.add(Conv2D(256, (3,3),strides = (1,1),kernel_initializer='glorot_uniform'))\n",
        "\n",
        "model.add(keras.layers.ELU())\n",
        "\n",
        "model.add(BatchNormalization())\n",
        "\n",
        "model.add(MaxPool2D(pool_size=(2, 2), strides= (2,2)))\n",
        "\n",
        "model.add(Flatten())\n",
        "\n",
        "model.add(Dense(2048))\n",
        "\n",
        "model.add(keras.layers.ELU())\n",
        "\n",
        "model.add(BatchNormalization())\n",
        "\n",
        "model.add(Dropout(0.5))\n",
        "\n",
        "model.add(Dense(7, activation='softmax'))\n",
        "\n",
        "model.compile(loss='categorical_crossentropy', optimizer='adam', metrics=['accuracy'])\n"
      ],
      "execution_count": null,
      "outputs": []
    },
    {
      "cell_type": "code",
      "metadata": {
        "id": "I6tH5MJmOGmW",
        "colab_type": "code",
        "colab": {
          "base_uri": "https://localhost:8080/",
          "height": 33
        },
        "outputId": "c1f8f721-d653-41df-cb5d-055d63e2296f"
      },
      "source": [
        "pwd"
      ],
      "execution_count": null,
      "outputs": [
        {
          "output_type": "execute_result",
          "data": {
            "text/plain": [
              "'/content'"
            ]
          },
          "metadata": {
            "tags": []
          },
          "execution_count": 41
        }
      ]
    },
    {
      "cell_type": "code",
      "metadata": {
        "id": "qKDzCAK0MNlh",
        "colab_type": "code",
        "colab": {
          "base_uri": "https://localhost:8080/",
          "height": 388
        },
        "outputId": "29d4d613-d406-4477-9968-3affc67d329e"
      },
      "source": [
        "checkpoint = ModelCheckpoint('model-{epoch:02d}.model',monitor='val_loss',verbose=0,save_best_only=True,mode='auto')\n",
        "\n",
        "history=model.fit(train_data,train_target,epochs=10,callbacks=[checkpoint],validation_split=0.2)"
      ],
      "execution_count": null,
      "outputs": [
        {
          "output_type": "stream",
          "text": [
            "Train on 10997 samples, validate on 2750 samples\n",
            "Epoch 1/10\n",
            "10997/10997 [==============================] - 66s 6ms/step - loss: 0.0153 - accuracy: 0.9970 - val_loss: 42.9266 - val_accuracy: 0.2516\n",
            "Epoch 2/10\n",
            "10997/10997 [==============================] - 64s 6ms/step - loss: 0.0108 - accuracy: 0.9973 - val_loss: 0.1048 - val_accuracy: 0.9916\n",
            "Epoch 3/10\n",
            "10997/10997 [==============================] - 64s 6ms/step - loss: 0.0159 - accuracy: 0.9970 - val_loss: 9.6164 - val_accuracy: 0.7676\n",
            "Epoch 4/10\n",
            "10997/10997 [==============================] - 64s 6ms/step - loss: 0.0102 - accuracy: 0.9981 - val_loss: 47.1358 - val_accuracy: 0.5822\n",
            "Epoch 5/10\n",
            "10997/10997 [==============================] - 64s 6ms/step - loss: 0.0077 - accuracy: 0.9981 - val_loss: 565.5245 - val_accuracy: 0.0578\n",
            "Epoch 6/10\n",
            "10997/10997 [==============================] - 64s 6ms/step - loss: 0.0172 - accuracy: 0.9969 - val_loss: 23.6581 - val_accuracy: 0.7000\n",
            "Epoch 7/10\n",
            "10997/10997 [==============================] - 64s 6ms/step - loss: 0.0158 - accuracy: 0.9976 - val_loss: 40.3607 - val_accuracy: 0.7531\n",
            "Epoch 8/10\n",
            "10997/10997 [==============================] - 64s 6ms/step - loss: 0.0074 - accuracy: 0.9989 - val_loss: 0.7721 - val_accuracy: 0.9822\n",
            "Epoch 9/10\n",
            "10997/10997 [==============================] - 64s 6ms/step - loss: 0.0110 - accuracy: 0.9982 - val_loss: 22.7277 - val_accuracy: 0.5018\n",
            "Epoch 10/10\n",
            "10997/10997 [==============================] - 64s 6ms/step - loss: 0.0251 - accuracy: 0.9953 - val_loss: 0.2386 - val_accuracy: 0.9909\n"
          ],
          "name": "stdout"
        }
      ]
    },
    {
      "cell_type": "code",
      "metadata": {
        "id": "PR1LRjpgPB_-",
        "colab_type": "code",
        "colab": {
          "base_uri": "https://localhost:8080/",
          "height": 541
        },
        "outputId": "b33b9041-56b6-4fee-a627-b9dbc1d73e09"
      },
      "source": [
        "plt.plot(history.history['loss'],'r',label='training loss')\n",
        "plt.plot(history.history['val_loss'],label='validation loss')\n",
        "plt.xlabel('# epochs')\n",
        "plt.ylabel('loss')\n",
        "plt.legend()\n",
        "plt.show()\n",
        "\n",
        "plt.plot(history.history['accuracy'],'r',label='training accuracy')\n",
        "plt.plot(history.history['val_accuracy'],label='validation accuracy')\n",
        "plt.xlabel('# epochs')\n",
        "plt.ylabel('loss')\n",
        "plt.legend()\n",
        "plt.show()"
      ],
      "execution_count": null,
      "outputs": [
        {
          "output_type": "display_data",
          "data": {
            "image/png": "[encoded data removed]",
            "text/plain": [
              "<Figure size 432x288 with 1 Axes>"
            ]
          },
          "metadata": {
            "tags": [],
            "needs_background": "light"
          }
        },
        {
          "output_type": "display_data",
          "data": {
            "image/png": "[encoded data removed]",
            "text/plain": [
              "<Figure size 432x288 with 1 Axes>"
            ]
          },
          "metadata": {
            "tags": [],
            "needs_background": "light"
          }
        }
      ]
    },
    {
      "cell_type": "code",
      "metadata": {
        "id": "zpycO1MyPB4E",
        "colab_type": "code",
        "colab": {
          "base_uri": "https://localhost:8080/",
          "height": 33
        },
        "outputId": "0e586e34-b282-49cc-f60b-bc188e835f16"
      },
      "source": [
        "print(model.evaluate(test_data,test_target))"
      ],
      "execution_count": null,
      "outputs": [
        {
          "output_type": "stream",
          "text": [
            " 736/1528 [=============>................] - ETA: 1s"
          ],
          "name": "stdout"
        }
      ]
    },
    {
      "cell_type": "code",
      "metadata": {
        "id": "YZ924NdVPBwT",
        "colab_type": "code",
        "colab": {}
      },
      "source": [
        "model = load_model('model-14.model')\n",
        "labels_dict={0:'Left Bundle Branch Block',1:'Paced Beat',2:'Ventricular Escape Beat',3:'Right Bundle Branch Block',4:'Normal',5:'Atrial Premature Contraction',6:'Premature Ventricular Contraction'}\n",
        "#{'Left Bundle Branch Block': 0, 'Paced Beat': 1, 'Ventricular Escape Beat': 2, 'Right Bundle Branch Block': 3, 'Normal': 4, 'Atrial Premature Contraction': 5, 'Premature Ventricular Contraction': 6}"
      ],
      "execution_count": null,
      "outputs": []
    },
    {
      "cell_type": "markdown",
      "metadata": {
        "id": "hPRcNxLhaq5d",
        "colab_type": "text"
      },
      "source": [
        "**Testing the model with the images uploaded form outside**"
      ]
    },
    {
      "cell_type": "code",
      "metadata": {
        "id": "imeLWr7OYya2",
        "colab_type": "code",
        "colab": {
          "base_uri": "https://localhost:8080/",
          "height": 67
        },
        "outputId": "0a041054-1ad9-439a-fa6a-5abb0b5403fb"
      },
      "source": [
        "img=cv2.imread('/4111.png')\n",
        "gray=cv2.cvtColor(img,cv2.COLOR_BGR2GRAY)\n",
        "\n",
        "resized=cv2.resize(gray,(img_size,img_size))\n",
        "\n",
        "normalized=resized/255.0\n",
        "reshaped=np.reshape(normalized,(1,150,150,1))\n",
        "result=model.predict(reshaped)\n",
        "print(result)\n",
        "label=np.argmax(result,axis=1)[0]\n",
        "print(labels_dict[label])     \n"
      ],
      "execution_count": null,
      "outputs": [
        {
          "output_type": "stream",
          "text": [
            "[[7.7547212e-11 1.4784619e-12 7.9075740e-16 8.8187904e-13 2.8300391e-08\n",
            "  1.0000000e+00 1.6903284e-12]]\n",
            "Atrial Premature Contraction\n"
          ],
          "name": "stdout"
        }
      ]
    }
  ]
}